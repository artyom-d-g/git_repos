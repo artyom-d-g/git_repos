{
 "cells": [
  {
   "cell_type": "code",
   "execution_count": null,
   "metadata": {
    "scrolled": true
   },
   "outputs": [],
   "source": [
    "def game_core_v3():\n",
    "    import numpy as np\n",
    "    import math\n",
    "    number = 0    \n",
    "    '''Задать эту переменную через аргумент функции менее понятно, чем так.\n",
    "    Потому что этой функции очевидно не нужен аргумент'''\n",
    "    number = np.random.randint(1,101)    # загадали число\n",
    "        \n",
    "    '''Начало показательного овладевания строками'''\n",
    "    serials_rus = ('один два три четыре пять шесть семь восемь девять').split()\n",
    "    pointless_string = str(number)\n",
    "    old_cheekbone_spasm = 'Йа креведко '\n",
    "    for value in pointless_string:\n",
    "        for i in range(0, int(value)):    #Печатаем столько раз = цифре в number\n",
    "            print(old_cheekbone_spasm + serials_rus[i] + '!' \n",
    "                  + \" Пыщь-Пыщь \", end = 'Фхтагн! \\n')\n",
    "    print('Рассчет окончен. Слава Ктулху!')\n",
    "    '''Строки захвачены, мой генерал!'''\n",
    "    \n",
    "    upper_border = 101    # Верхняя граница области поиска\n",
    "    lower_border = 1    # Нижняя граница области поиска\n",
    "    guess = upper_border//2    # Первое предположение\n",
    "    count = 1    # Счетчик попыток\n",
    "    while guess != number: #Крутим цикл до победного\n",
    "        count += 1\n",
    "        if guess < number:\n",
    "            lower_border = guess\n",
    "            guess = upper_border - (math.ceil((upper_border-guess) / 2))\n",
    "            '''Сдвигаем границу поиска к неподошедшему числу. Новое число ищем \n",
    "            как середину оставшегося неисследованным отрезка. Окргуляем вверх,\n",
    "            чтобы точно не потерять наше число'''\n",
    "        else:\n",
    "            upper_border = guess\n",
    "            guess = upper_border - (math.ceil((upper_border-lower_border) / 2))\n",
    "    return(count)\n",
    "\n",
    "\n",
    "def score_game(game_core):\n",
    "    import numpy as np\n",
    "    '''Запускаем игру 1000 раз, чтобы узнать, как быстро игра угадывает число'''\n",
    "    count_ls = []\n",
    "    np.random.seed(1)  # фиксируем RANDOM SEED, чтобы ваш эксперимент был воспроизводим!\n",
    "    random_array = np.random.randint(1,101, size=(1000))\n",
    "    for number in random_array:\n",
    "        print('Проверка номер {}'.format(number))\n",
    "        count_ls.append(game_core())\n",
    "    score = int(np.mean(count_ls))\n",
    "    print(f\"Ваш алгоритм угадывает число в среднем за {score} попыток\")\n",
    "    return(score)\n",
    "'''Скажите, а ставить пробелы вокруг каждого знака мат операции строго\n",
    "запрещено правилами pep8 или допускается? Мне видится красивее ставить.'''"
   ]
  },
  {
   "cell_type": "code",
   "execution_count": null,
   "metadata": {
    "scrolled": true
   },
   "outputs": [],
   "source": [
    "game_core_v3()"
   ]
  },
  {
   "cell_type": "code",
   "execution_count": null,
   "metadata": {},
   "outputs": [],
   "source": [
    "score_game(game_core_v3)"
   ]
  },
  {
   "cell_type": "code",
   "execution_count": null,
   "metadata": {},
   "outputs": [],
   "source": []
  }
 ],
 "metadata": {
  "kernelspec": {
   "display_name": "Python 3",
   "language": "python",
   "name": "python3"
  },
  "language_info": {
   "codemirror_mode": {
    "name": "ipython",
    "version": 3
   },
   "file_extension": ".py",
   "mimetype": "text/x-python",
   "name": "python",
   "nbconvert_exporter": "python",
   "pygments_lexer": "ipython3",
   "version": "3.8.3"
  }
 },
 "nbformat": 4,
 "nbformat_minor": 4
}
